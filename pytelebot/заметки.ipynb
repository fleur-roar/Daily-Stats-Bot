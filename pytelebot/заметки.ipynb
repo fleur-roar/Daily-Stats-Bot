{
 "cells": [
  {
   "cell_type": "code",
   "execution_count": null,
   "id": "b57e562f",
   "metadata": {},
   "outputs": [],
   "source": []
  },
  {
   "cell_type": "code",
   "execution_count": null,
   "id": "77d40f1e",
   "metadata": {},
   "outputs": [],
   "source": [
    "# Вместо того чтобы импортировать те txt я нажала \n",
    "\n",
    "pip install --upgrade python-telegram-bot matplotlib pandas numpy python-dateutil"
   ]
  },
  {
   "cell_type": "code",
   "execution_count": null,
   "id": "dc0058c5",
   "metadata": {},
   "outputs": [],
   "source": []
  }
 ],
 "metadata": {
  "kernelspec": {
   "display_name": "Python 3",
   "language": "python",
   "name": "python3"
  },
  "language_info": {
   "name": "python",
   "version": "3.12.3"
  }
 },
 "nbformat": 4,
 "nbformat_minor": 5
}
